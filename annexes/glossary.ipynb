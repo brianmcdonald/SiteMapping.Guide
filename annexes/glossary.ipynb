{
  "cells": [
    {
      "cell_type": "markdown",
      "metadata": {},
      "source": [
        "# Glossary {.unnumbered}\n",
        "\n",
        "A glossary of common terms used throughout this guide.\n",
        "\n",
        "```{glossary}\n",
        "[UAV](https://en.wikipedia.org/wiki/Unmanned_aerial_vehicle)\n",
        "    Unmanned Aerial Vehicle, commonly known as a drone. Radio controlled fixed-wing or rotorcraft.\n",
        "\n",
        "[IOM](https://www.iom.int)\n",
        "     International Organization for Migration."
      ],
      "id": "038b9c1c"
    }
  ],
  "metadata": {
    "kernelspec": {
      "display_name": "Python 3",
      "language": "python",
      "name": "python3"
    }
  },
  "nbformat": 4,
  "nbformat_minor": 5
}