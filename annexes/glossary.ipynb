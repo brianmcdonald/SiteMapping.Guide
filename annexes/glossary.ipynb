{
  "cells": [
    {
      "cell_type": "markdown",
      "metadata": {},
      "source": [
        "# Glossary {.unnumbered}\n",
        "\n",
        "A glossary of terms used throughout this guide:\n",
        "\n",
        "```{glossary}\n",
        "\n",
        "Drone\n",
        ": Common term for unmanned or remotely-piloted aircraft.\n",
        "\n",
        "Georeferencing\n",
        ": The act of aligning geographic data (such as a map) to a known coordinate system. \n",
        "\n",
        "GIS\n",
        ": Geographic information system. In general terms, a system that is designed to manipulate, store, analyze, and manage spatial and geographic data. \n",
        "\n",
        "GSD\n",
        ": Ground sample distance. The resolution of an aerial image\n",
        "\n",
        "IOM\n",
        ": International Organization for Migration.\n",
        "\n",
        "Nadir\n",
        ": In aerial photography, the point on the ground that lies directly below the perspective center of the camera lens; also, images taken from this perspective (i.e., straight down).\n",
        "\n",
        "Orthomosaic\n",
        ": A two-part process in which a number of images are combined together or “stitched” into a single image and also corrected for distortion. \n",
        "\n",
        "Orthorectification\n",
        ": A process of removing the efects of image perspective and relief efects by using camera model information and elevation data, creating a fnal image that has a constant scale. \n",
        "\n",
        "RTK\n",
        ": Real time kinematic. A technique used to extract more-precise-than-normal position data from global satellite navigation timing signals.\n",
        "\n",
        "UAV\n",
        ": Unmanned Aerial Vehicle, commonly known as a drone. Radio controlled fixed-wing or rotorcraft.\n"
      ],
      "id": "6a5ba4c4"
    }
  ],
  "metadata": {
    "kernelspec": {
      "display_name": "Python 3",
      "language": "python",
      "name": "python3"
    }
  },
  "nbformat": 4,
  "nbformat_minor": 5
}